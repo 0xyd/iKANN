{
 "cells": [
  {
   "cell_type": "code",
   "execution_count": 1,
   "id": "appreciated-visit",
   "metadata": {
    "ExecuteTime": {
     "end_time": "2021-02-07T19:37:22.675051Z",
     "start_time": "2021-02-07T19:37:20.778415Z"
    }
   },
   "outputs": [
    {
     "ename": "SyntaxError",
     "evalue": "invalid syntax (graph.py, line 47)",
     "output_type": "error",
     "traceback": [
      "Traceback \u001b[0;36m(most recent call last)\u001b[0m:\n",
      "  File \u001b[1;32m\"/Users/yudelin/.conda/envs/chipwhisperer/lib/python3.8/site-packages/IPython/core/interactiveshell.py\"\u001b[0m, line \u001b[1;32m3418\u001b[0m, in \u001b[1;35mrun_code\u001b[0m\n    exec(code_obj, self.user_global_ns, self.user_ns)\n",
      "\u001b[0;36m  File \u001b[0;32m\"<ipython-input-1-c98278a8e17d>\"\u001b[0;36m, line \u001b[0;32m9\u001b[0;36m, in \u001b[0;35m<module>\u001b[0;36m\u001b[0m\n\u001b[0;31m    from cgen.graph import BackpropGraph, iKannForwardGraph\u001b[0m\n",
      "\u001b[0;36m  File \u001b[0;32m\"../cgen/graph.py\"\u001b[0;36m, line \u001b[0;32m47\u001b[0m\n\u001b[0;31m    print(f'id: {vId}; name: {self.g[vId]['name']}')\u001b[0m\n\u001b[0m                                           ^\u001b[0m\n\u001b[0;31mSyntaxError\u001b[0m\u001b[0;31m:\u001b[0m invalid syntax\n"
     ]
    }
   ],
   "source": [
    "import sys\n",
    "\n",
    "sys.path.append('../')\n",
    "\n",
    "import torch\n",
    "import torch.nn as nn\n",
    "from torch.autograd import Variable\n",
    "from torchviz import make_dot\n",
    "from cgen.graph import BackpropGraph, iKannForwardGraph"
   ]
  },
  {
   "cell_type": "code",
   "execution_count": null,
   "id": "continuous-sunglasses",
   "metadata": {
    "ExecuteTime": {
     "end_time": "2021-02-07T19:37:22.682934Z",
     "start_time": "2021-02-07T19:37:21.471Z"
    }
   },
   "outputs": [],
   "source": [
    "class Net(nn.Module):\n",
    "\n",
    "    def __init__(self):\n",
    "        super(Net, self).__init__()\n",
    "        self.relu = nn.ReLU()\n",
    "        self.relu2 = nn.ReLU()\n",
    "        self.relu3 = nn.ReLU()\n",
    "        self.fc1 = nn.Linear(3, 3)\n",
    "        self.fc2 = nn.Linear(3, 3)\n",
    "        self.fc3 = nn.Linear(3, 3)\n",
    "\n",
    "    def forward(self, x):\n",
    "        x = self.fc1(x)\n",
    "        x = self.relu(x)\n",
    "        x = self.fc2(x)\n",
    "        x = self.relu2(x)\n",
    "        x = self.fc3(x)\n",
    "        x = self.relu3(x)\n",
    "        return x\n",
    "    \n",
    "class Net2(nn.Module):\n",
    "\n",
    "    def __init__(self):\n",
    "        super(Net2, self).__init__()\n",
    "        self.conv1 = nn.Conv2d(1, 2, kernel_size=(2,2), stride=(2, 2))\n",
    "        self.maxpool1 = nn.MaxPool2d(kernel_size=(2,2), stride=(2, 2))\n",
    "\n",
    "    def forward(self, x):\n",
    "        x = self.conv1(x)\n",
    "        x = self.maxpool1(x)\n",
    "        return x"
   ]
  },
  {
   "cell_type": "code",
   "execution_count": 2,
   "id": "municipal-borough",
   "metadata": {
    "ExecuteTime": {
     "end_time": "2021-02-07T19:37:24.716940Z",
     "start_time": "2021-02-07T19:37:24.404582Z"
    }
   },
   "outputs": [
    {
     "ename": "NameError",
     "evalue": "name 'Net' is not defined",
     "output_type": "error",
     "traceback": [
      "\u001b[0;31m---------------------------------------------------------------------------\u001b[0m",
      "\u001b[0;31mNameError\u001b[0m                                 Traceback (most recent call last)",
      "\u001b[0;32m<ipython-input-2-43039bb4f466>\u001b[0m in \u001b[0;36m<module>\u001b[0;34m\u001b[0m\n\u001b[0;32m----> 1\u001b[0;31m \u001b[0mnet\u001b[0m \u001b[0;34m=\u001b[0m \u001b[0mNet\u001b[0m\u001b[0;34m(\u001b[0m\u001b[0;34m)\u001b[0m\u001b[0;34m\u001b[0m\u001b[0;34m\u001b[0m\u001b[0m\n\u001b[0m\u001b[1;32m      2\u001b[0m \u001b[0mx\u001b[0m \u001b[0;34m=\u001b[0m \u001b[0mVariable\u001b[0m\u001b[0;34m(\u001b[0m\u001b[0mtorch\u001b[0m\u001b[0;34m.\u001b[0m\u001b[0mrand\u001b[0m\u001b[0;34m(\u001b[0m\u001b[0;36m1\u001b[0m\u001b[0;34m,\u001b[0m \u001b[0;36m3\u001b[0m\u001b[0;34m)\u001b[0m\u001b[0;34m)\u001b[0m\u001b[0;34m\u001b[0m\u001b[0;34m\u001b[0m\u001b[0m\n\u001b[1;32m      3\u001b[0m \u001b[0my\u001b[0m \u001b[0;34m=\u001b[0m \u001b[0mnet\u001b[0m\u001b[0;34m(\u001b[0m\u001b[0mx\u001b[0m\u001b[0;34m)\u001b[0m\u001b[0;34m\u001b[0m\u001b[0;34m\u001b[0m\u001b[0m\n",
      "\u001b[0;31mNameError\u001b[0m: name 'Net' is not defined"
     ]
    }
   ],
   "source": [
    "net = Net()\n",
    "x = Variable(torch.rand(1, 3))\n",
    "y = net(x)"
   ]
  },
  {
   "cell_type": "code",
   "execution_count": 3,
   "id": "present-gabriel",
   "metadata": {
    "ExecuteTime": {
     "end_time": "2021-02-07T19:37:24.914749Z",
     "start_time": "2021-02-07T19:37:24.899723Z"
    }
   },
   "outputs": [
    {
     "ename": "NameError",
     "evalue": "name 'BackpropGraph' is not defined",
     "output_type": "error",
     "traceback": [
      "\u001b[0;31m---------------------------------------------------------------------------\u001b[0m",
      "\u001b[0;31mNameError\u001b[0m                                 Traceback (most recent call last)",
      "\u001b[0;32m<ipython-input-3-c74b64c91440>\u001b[0m in \u001b[0;36m<module>\u001b[0;34m\u001b[0m\n\u001b[0;32m----> 1\u001b[0;31m \u001b[0mb\u001b[0m \u001b[0;34m=\u001b[0m \u001b[0mBackpropGraph\u001b[0m\u001b[0;34m(\u001b[0m\u001b[0mnet\u001b[0m\u001b[0;34m)\u001b[0m\u001b[0;34m\u001b[0m\u001b[0;34m\u001b[0m\u001b[0m\n\u001b[0m\u001b[1;32m      2\u001b[0m \u001b[0mb\u001b[0m\u001b[0;34m.\u001b[0m\u001b[0mparse\u001b[0m\u001b[0;34m(\u001b[0m\u001b[0my\u001b[0m\u001b[0;34m)\u001b[0m\u001b[0;34m\u001b[0m\u001b[0;34m\u001b[0m\u001b[0m\n\u001b[1;32m      3\u001b[0m \u001b[0mb\u001b[0m\u001b[0;34m.\u001b[0m\u001b[0mg\u001b[0m\u001b[0;34m\u001b[0m\u001b[0;34m\u001b[0m\u001b[0m\n",
      "\u001b[0;31mNameError\u001b[0m: name 'BackpropGraph' is not defined"
     ]
    }
   ],
   "source": [
    "b = BackpropGraph(net)\n",
    "b.parse(y)\n",
    "b.g"
   ]
  },
  {
   "cell_type": "code",
   "execution_count": 5,
   "id": "innocent-freight",
   "metadata": {
    "ExecuteTime": {
     "end_time": "2021-02-07T19:32:12.433139Z",
     "start_time": "2021-02-07T19:32:11.247718Z"
    }
   },
   "outputs": [
    {
     "data": {
      "image/svg+xml": [
       "<?xml version=\"1.0\" encoding=\"UTF-8\" standalone=\"no\"?>\n",
       "<!DOCTYPE svg PUBLIC \"-//W3C//DTD SVG 1.1//EN\"\n",
       " \"http://www.w3.org/Graphics/SVG/1.1/DTD/svg11.dtd\">\n",
       "<!-- Generated by graphviz version 2.44.1 (20200629.0846)\n",
       " -->\n",
       "<!-- Pages: 1 -->\n",
       "<svg width=\"268pt\" height=\"506pt\"\n",
       " viewBox=\"0.00 0.00 267.50 506.00\" xmlns=\"http://www.w3.org/2000/svg\" xmlns:xlink=\"http://www.w3.org/1999/xlink\">\n",
       "<g id=\"graph0\" class=\"graph\" transform=\"scale(1 1) rotate(0) translate(4 502)\">\n",
       "<polygon fill=\"white\" stroke=\"transparent\" points=\"-4,4 -4,-502 263.5,-502 263.5,4 -4,4\"/>\n",
       "<!-- 140557090404768 -->\n",
       "<g id=\"node1\" class=\"node\">\n",
       "<title>140557090404768</title>\n",
       "<polygon fill=\"#caff70\" stroke=\"black\" points=\"167,-21 73,-21 73,0 167,0 167,-21\"/>\n",
       "<text text-anchor=\"middle\" x=\"120\" y=\"-7.4\" font-family=\"Times,serif\" font-size=\"12.00\">ReluBackward0</text>\n",
       "</g>\n",
       "<!-- 140557090492720 -->\n",
       "<g id=\"node2\" class=\"node\">\n",
       "<title>140557090492720</title>\n",
       "<polygon fill=\"lightgrey\" stroke=\"black\" points=\"172,-78 68,-78 68,-57 172,-57 172,-78\"/>\n",
       "<text text-anchor=\"middle\" x=\"120\" y=\"-64.4\" font-family=\"Times,serif\" font-size=\"12.00\">AddmmBackward</text>\n",
       "</g>\n",
       "<!-- 140557090492720&#45;&gt;140557090404768 -->\n",
       "<g id=\"edge1\" class=\"edge\">\n",
       "<title>140557090492720&#45;&gt;140557090404768</title>\n",
       "<path fill=\"none\" stroke=\"black\" d=\"M120,-56.92C120,-49.91 120,-40.14 120,-31.47\"/>\n",
       "<polygon fill=\"black\" stroke=\"black\" points=\"123.5,-31.34 120,-21.34 116.5,-31.34 123.5,-31.34\"/>\n",
       "</g>\n",
       "<!-- 140557090492480 -->\n",
       "<g id=\"node3\" class=\"node\">\n",
       "<title>140557090492480</title>\n",
       "<polygon fill=\"lightblue\" stroke=\"black\" points=\"55,-148 1,-148 1,-114 55,-114 55,-148\"/>\n",
       "<text text-anchor=\"middle\" x=\"28\" y=\"-134.4\" font-family=\"Times,serif\" font-size=\"12.00\">fc3.bias</text>\n",
       "<text text-anchor=\"middle\" x=\"28\" y=\"-121.4\" font-family=\"Times,serif\" font-size=\"12.00\"> (3)</text>\n",
       "</g>\n",
       "<!-- 140557090492480&#45;&gt;140557090492720 -->\n",
       "<g id=\"edge2\" class=\"edge\">\n",
       "<title>140557090492480&#45;&gt;140557090492720</title>\n",
       "<path fill=\"none\" stroke=\"black\" d=\"M52.17,-113.84C66.15,-104.5 83.62,-92.82 97.33,-83.65\"/>\n",
       "<polygon fill=\"black\" stroke=\"black\" points=\"99.36,-86.51 105.73,-78.04 95.47,-80.69 99.36,-86.51\"/>\n",
       "</g>\n",
       "<!-- 140557090495072 -->\n",
       "<g id=\"node4\" class=\"node\">\n",
       "<title>140557090495072</title>\n",
       "<polygon fill=\"lightgrey\" stroke=\"black\" points=\"167,-141.5 73,-141.5 73,-120.5 167,-120.5 167,-141.5\"/>\n",
       "<text text-anchor=\"middle\" x=\"120\" y=\"-127.9\" font-family=\"Times,serif\" font-size=\"12.00\">ReluBackward0</text>\n",
       "</g>\n",
       "<!-- 140557090495072&#45;&gt;140557090492720 -->\n",
       "<g id=\"edge3\" class=\"edge\">\n",
       "<title>140557090495072&#45;&gt;140557090492720</title>\n",
       "<path fill=\"none\" stroke=\"black\" d=\"M120,-120.39C120,-111.87 120,-99.14 120,-88.42\"/>\n",
       "<polygon fill=\"black\" stroke=\"black\" points=\"123.5,-88.24 120,-78.24 116.5,-88.24 123.5,-88.24\"/>\n",
       "</g>\n",
       "<!-- 140557090495312 -->\n",
       "<g id=\"node5\" class=\"node\">\n",
       "<title>140557090495312</title>\n",
       "<polygon fill=\"lightgrey\" stroke=\"black\" points=\"171,-211.5 67,-211.5 67,-190.5 171,-190.5 171,-211.5\"/>\n",
       "<text text-anchor=\"middle\" x=\"119\" y=\"-197.9\" font-family=\"Times,serif\" font-size=\"12.00\">AddmmBackward</text>\n",
       "</g>\n",
       "<!-- 140557090495312&#45;&gt;140557090495072 -->\n",
       "<g id=\"edge4\" class=\"edge\">\n",
       "<title>140557090495312&#45;&gt;140557090495072</title>\n",
       "<path fill=\"none\" stroke=\"black\" d=\"M119.14,-190.26C119.29,-180.26 119.52,-164.42 119.71,-151.78\"/>\n",
       "<polygon fill=\"black\" stroke=\"black\" points=\"123.21,-151.78 119.86,-141.72 116.21,-151.67 123.21,-151.78\"/>\n",
       "</g>\n",
       "<!-- 140557090494640 -->\n",
       "<g id=\"node6\" class=\"node\">\n",
       "<title>140557090494640</title>\n",
       "<polygon fill=\"lightblue\" stroke=\"black\" points=\"54,-288 0,-288 0,-254 54,-254 54,-288\"/>\n",
       "<text text-anchor=\"middle\" x=\"27\" y=\"-274.4\" font-family=\"Times,serif\" font-size=\"12.00\">fc2.bias</text>\n",
       "<text text-anchor=\"middle\" x=\"27\" y=\"-261.4\" font-family=\"Times,serif\" font-size=\"12.00\"> (3)</text>\n",
       "</g>\n",
       "<!-- 140557090494640&#45;&gt;140557090495312 -->\n",
       "<g id=\"edge5\" class=\"edge\">\n",
       "<title>140557090494640&#45;&gt;140557090495312</title>\n",
       "<path fill=\"none\" stroke=\"black\" d=\"M48.8,-253.88C63.5,-243.02 82.8,-228.75 97.45,-217.93\"/>\n",
       "<polygon fill=\"black\" stroke=\"black\" points=\"99.92,-220.46 105.88,-211.7 95.76,-214.83 99.92,-220.46\"/>\n",
       "</g>\n",
       "<!-- 140557090494400 -->\n",
       "<g id=\"node7\" class=\"node\">\n",
       "<title>140557090494400</title>\n",
       "<polygon fill=\"lightgrey\" stroke=\"black\" points=\"166,-281.5 72,-281.5 72,-260.5 166,-260.5 166,-281.5\"/>\n",
       "<text text-anchor=\"middle\" x=\"119\" y=\"-267.9\" font-family=\"Times,serif\" font-size=\"12.00\">ReluBackward0</text>\n",
       "</g>\n",
       "<!-- 140557090494400&#45;&gt;140557090495312 -->\n",
       "<g id=\"edge6\" class=\"edge\">\n",
       "<title>140557090494400&#45;&gt;140557090495312</title>\n",
       "<path fill=\"none\" stroke=\"black\" d=\"M119,-260.26C119,-250.26 119,-234.42 119,-221.78\"/>\n",
       "<polygon fill=\"black\" stroke=\"black\" points=\"122.5,-221.72 119,-211.72 115.5,-221.72 122.5,-221.72\"/>\n",
       "</g>\n",
       "<!-- 140557090496464 -->\n",
       "<g id=\"node8\" class=\"node\">\n",
       "<title>140557090496464</title>\n",
       "<polygon fill=\"lightgrey\" stroke=\"black\" points=\"170,-351.5 66,-351.5 66,-330.5 170,-330.5 170,-351.5\"/>\n",
       "<text text-anchor=\"middle\" x=\"118\" y=\"-337.9\" font-family=\"Times,serif\" font-size=\"12.00\">AddmmBackward</text>\n",
       "</g>\n",
       "<!-- 140557090496464&#45;&gt;140557090494400 -->\n",
       "<g id=\"edge7\" class=\"edge\">\n",
       "<title>140557090496464&#45;&gt;140557090494400</title>\n",
       "<path fill=\"none\" stroke=\"black\" d=\"M118.14,-330.26C118.29,-320.26 118.52,-304.42 118.71,-291.78\"/>\n",
       "<polygon fill=\"black\" stroke=\"black\" points=\"122.21,-291.78 118.86,-281.72 115.21,-291.67 122.21,-291.78\"/>\n",
       "</g>\n",
       "<!-- 140557090403136 -->\n",
       "<g id=\"node9\" class=\"node\">\n",
       "<title>140557090403136</title>\n",
       "<polygon fill=\"lightblue\" stroke=\"black\" points=\"104,-428 50,-428 50,-394 104,-394 104,-428\"/>\n",
       "<text text-anchor=\"middle\" x=\"77\" y=\"-414.4\" font-family=\"Times,serif\" font-size=\"12.00\">fc1.bias</text>\n",
       "<text text-anchor=\"middle\" x=\"77\" y=\"-401.4\" font-family=\"Times,serif\" font-size=\"12.00\"> (3)</text>\n",
       "</g>\n",
       "<!-- 140557090403136&#45;&gt;140557090496464 -->\n",
       "<g id=\"edge8\" class=\"edge\">\n",
       "<title>140557090403136&#45;&gt;140557090496464</title>\n",
       "<path fill=\"none\" stroke=\"black\" d=\"M86.72,-393.88C92.74,-383.9 100.49,-371.04 106.77,-360.62\"/>\n",
       "<polygon fill=\"black\" stroke=\"black\" points=\"109.87,-362.27 112.03,-351.89 103.87,-358.65 109.87,-362.27\"/>\n",
       "</g>\n",
       "<!-- 140557090404192 -->\n",
       "<g id=\"node10\" class=\"node\">\n",
       "<title>140557090404192</title>\n",
       "<polygon fill=\"lightgrey\" stroke=\"black\" points=\"195.5,-421.5 122.5,-421.5 122.5,-400.5 195.5,-400.5 195.5,-421.5\"/>\n",
       "<text text-anchor=\"middle\" x=\"159\" y=\"-407.9\" font-family=\"Times,serif\" font-size=\"12.00\">TBackward</text>\n",
       "</g>\n",
       "<!-- 140557090404192&#45;&gt;140557090496464 -->\n",
       "<g id=\"edge9\" class=\"edge\">\n",
       "<title>140557090404192&#45;&gt;140557090496464</title>\n",
       "<path fill=\"none\" stroke=\"black\" d=\"M153.13,-400.26C146.91,-389.96 136.97,-373.46 129.24,-360.64\"/>\n",
       "<polygon fill=\"black\" stroke=\"black\" points=\"132.02,-358.48 123.86,-351.72 126.03,-362.1 132.02,-358.48\"/>\n",
       "</g>\n",
       "<!-- 140557090405824 -->\n",
       "<g id=\"node11\" class=\"node\">\n",
       "<title>140557090405824</title>\n",
       "<polygon fill=\"lightblue\" stroke=\"black\" points=\"192.5,-498 125.5,-498 125.5,-464 192.5,-464 192.5,-498\"/>\n",
       "<text text-anchor=\"middle\" x=\"159\" y=\"-484.4\" font-family=\"Times,serif\" font-size=\"12.00\">fc1.weight</text>\n",
       "<text text-anchor=\"middle\" x=\"159\" y=\"-471.4\" font-family=\"Times,serif\" font-size=\"12.00\"> (3, 3)</text>\n",
       "</g>\n",
       "<!-- 140557090405824&#45;&gt;140557090404192 -->\n",
       "<g id=\"edge10\" class=\"edge\">\n",
       "<title>140557090405824&#45;&gt;140557090404192</title>\n",
       "<path fill=\"none\" stroke=\"black\" d=\"M159,-463.88C159,-454.31 159,-442.09 159,-431.91\"/>\n",
       "<polygon fill=\"black\" stroke=\"black\" points=\"162.5,-431.89 159,-421.89 155.5,-431.89 162.5,-431.89\"/>\n",
       "</g>\n",
       "<!-- 140557090492864 -->\n",
       "<g id=\"node12\" class=\"node\">\n",
       "<title>140557090492864</title>\n",
       "<polygon fill=\"lightgrey\" stroke=\"black\" points=\"258.5,-281.5 185.5,-281.5 185.5,-260.5 258.5,-260.5 258.5,-281.5\"/>\n",
       "<text text-anchor=\"middle\" x=\"222\" y=\"-267.9\" font-family=\"Times,serif\" font-size=\"12.00\">TBackward</text>\n",
       "</g>\n",
       "<!-- 140557090492864&#45;&gt;140557090495312 -->\n",
       "<g id=\"edge11\" class=\"edge\">\n",
       "<title>140557090492864&#45;&gt;140557090495312</title>\n",
       "<path fill=\"none\" stroke=\"black\" d=\"M207.24,-260.26C190.17,-248.98 161.84,-230.29 141.9,-217.12\"/>\n",
       "<polygon fill=\"black\" stroke=\"black\" points=\"143.67,-214.09 133.4,-211.51 139.81,-219.94 143.67,-214.09\"/>\n",
       "</g>\n",
       "<!-- 140557090403232 -->\n",
       "<g id=\"node13\" class=\"node\">\n",
       "<title>140557090403232</title>\n",
       "<polygon fill=\"lightblue\" stroke=\"black\" points=\"255.5,-358 188.5,-358 188.5,-324 255.5,-324 255.5,-358\"/>\n",
       "<text text-anchor=\"middle\" x=\"222\" y=\"-344.4\" font-family=\"Times,serif\" font-size=\"12.00\">fc2.weight</text>\n",
       "<text text-anchor=\"middle\" x=\"222\" y=\"-331.4\" font-family=\"Times,serif\" font-size=\"12.00\"> (3, 3)</text>\n",
       "</g>\n",
       "<!-- 140557090403232&#45;&gt;140557090492864 -->\n",
       "<g id=\"edge12\" class=\"edge\">\n",
       "<title>140557090403232&#45;&gt;140557090492864</title>\n",
       "<path fill=\"none\" stroke=\"black\" d=\"M222,-323.88C222,-314.31 222,-302.09 222,-291.91\"/>\n",
       "<polygon fill=\"black\" stroke=\"black\" points=\"225.5,-291.89 222,-281.89 218.5,-291.89 225.5,-291.89\"/>\n",
       "</g>\n",
       "<!-- 140557090494880 -->\n",
       "<g id=\"node14\" class=\"node\">\n",
       "<title>140557090494880</title>\n",
       "<polygon fill=\"lightgrey\" stroke=\"black\" points=\"259.5,-141.5 186.5,-141.5 186.5,-120.5 259.5,-120.5 259.5,-141.5\"/>\n",
       "<text text-anchor=\"middle\" x=\"223\" y=\"-127.9\" font-family=\"Times,serif\" font-size=\"12.00\">TBackward</text>\n",
       "</g>\n",
       "<!-- 140557090494880&#45;&gt;140557090492720 -->\n",
       "<g id=\"edge13\" class=\"edge\">\n",
       "<title>140557090494880&#45;&gt;140557090492720</title>\n",
       "<path fill=\"none\" stroke=\"black\" d=\"M206.91,-120.39C190.28,-110.46 164.1,-94.83 144.82,-83.32\"/>\n",
       "<polygon fill=\"black\" stroke=\"black\" points=\"146.36,-80.16 135.98,-78.04 142.77,-86.17 146.36,-80.16\"/>\n",
       "</g>\n",
       "<!-- 140557090494352 -->\n",
       "<g id=\"node15\" class=\"node\">\n",
       "<title>140557090494352</title>\n",
       "<polygon fill=\"lightblue\" stroke=\"black\" points=\"256.5,-218 189.5,-218 189.5,-184 256.5,-184 256.5,-218\"/>\n",
       "<text text-anchor=\"middle\" x=\"223\" y=\"-204.4\" font-family=\"Times,serif\" font-size=\"12.00\">fc3.weight</text>\n",
       "<text text-anchor=\"middle\" x=\"223\" y=\"-191.4\" font-family=\"Times,serif\" font-size=\"12.00\"> (3, 3)</text>\n",
       "</g>\n",
       "<!-- 140557090494352&#45;&gt;140557090494880 -->\n",
       "<g id=\"edge14\" class=\"edge\">\n",
       "<title>140557090494352&#45;&gt;140557090494880</title>\n",
       "<path fill=\"none\" stroke=\"black\" d=\"M223,-183.88C223,-174.31 223,-162.09 223,-151.91\"/>\n",
       "<polygon fill=\"black\" stroke=\"black\" points=\"226.5,-151.89 223,-141.89 219.5,-151.89 226.5,-151.89\"/>\n",
       "</g>\n",
       "</g>\n",
       "</svg>\n"
      ],
      "text/plain": [
       "<graphviz.dot.Digraph at 0x7fd5ff7310a0>"
      ]
     },
     "execution_count": 5,
     "metadata": {},
     "output_type": "execute_result"
    }
   ],
   "source": [
    "make_dot(y, params=dict(net.named_parameters()))"
   ]
  },
  {
   "cell_type": "code",
   "execution_count": 6,
   "id": "monthly-cooking",
   "metadata": {
    "ExecuteTime": {
     "end_time": "2021-02-07T19:32:12.467545Z",
     "start_time": "2021-02-07T19:32:12.439698Z"
    }
   },
   "outputs": [
    {
     "name": "stdout",
     "output_type": "stream",
     "text": [
      "start :\n",
      "{'name': 'TBackward', 'children': [140557090494448]}\n",
      "TBackward's child : 140557090494448\n",
      "{'name': 'AccumulateGrad', 'weights': tensor([-0.0655,  0.2207,  0.2813]), 'size': torch.Size([3]), 'children': []}\n",
      "==========\n",
      "start :\n",
      "{'name': 'TBackward', 'children': [140557090493632]}\n",
      "TBackward's child : 140557090493632\n",
      "start :\n",
      "{'name': 'TBackward', 'children': [140557090494160]}\n",
      "TBackward's child : 140557090494160\n"
     ]
    },
    {
     "data": {
      "text/plain": [
       "{0: {'name': 'relu', 'output': True},\n",
       " 1: {'name': 'dense',\n",
       "  'bias': {'value': tensor([-0.1555,  0.4730, -0.4635]),\n",
       "   'size': torch.Size([3])},\n",
       "  'weights': {'value': tensor([-0.0655,  0.2207,  0.2813]),\n",
       "   'size': torch.Size([3])},\n",
       "  'next': 0},\n",
       " 2: {'name': 'relu', 'next': 1},\n",
       " 3: {'name': 'dense',\n",
       "  'bias': {'value': tensor([ 0.5208, -0.0018, -0.1439]),\n",
       "   'size': torch.Size([3])},\n",
       "  'weights': {'value': tensor([-0.0655,  0.2207,  0.2813]),\n",
       "   'size': torch.Size([3])},\n",
       "  'next': 2},\n",
       " 4: {'name': 'relu', 'next': 3},\n",
       " 5: {'name': 'dense',\n",
       "  'bias': {'value': tensor([-0.0655,  0.2207,  0.2813]),\n",
       "   'size': torch.Size([3])},\n",
       "  'weights': {'value': tensor([[ 0.1144, -0.3504,  0.2197],\n",
       "           [ 0.0649,  0.0643,  0.5467],\n",
       "           [ 0.2475,  0.2352,  0.3304]]),\n",
       "   'size': torch.Size([3, 3])},\n",
       "  'next': 4}}"
      ]
     },
     "execution_count": 6,
     "metadata": {},
     "output_type": "execute_result"
    }
   ],
   "source": [
    "k = iKannForwardGraph()\n",
    "k.parse(b.g)\n",
    "k.g"
   ]
  },
  {
   "cell_type": "code",
   "execution_count": null,
   "id": "surgical-lewis",
   "metadata": {},
   "outputs": [],
   "source": []
  },
  {
   "cell_type": "code",
   "execution_count": null,
   "id": "continent-heritage",
   "metadata": {},
   "outputs": [],
   "source": []
  },
  {
   "cell_type": "code",
   "execution_count": 6,
   "id": "published-october",
   "metadata": {
    "ExecuteTime": {
     "end_time": "2021-02-07T18:23:14.439033Z",
     "start_time": "2021-02-07T18:23:14.432357Z"
    }
   },
   "outputs": [],
   "source": [
    "var = y"
   ]
  },
  {
   "cell_type": "code",
   "execution_count": 7,
   "id": "infrared-receiver",
   "metadata": {
    "ExecuteTime": {
     "end_time": "2021-02-07T18:23:14.804751Z",
     "start_time": "2021-02-07T18:23:14.785386Z"
    }
   },
   "outputs": [],
   "source": [
    "output_nodes = (var.grad_fn,) if not isinstance(var, tuple) else tuple(v.grad_fn for v in var)\n",
    "seen = set()\n",
    "params = dict(net.named_parameters())\n",
    "param_map = {id(v): k for k, v in params.items()}\n",
    "count = 0\n",
    "graph = {}\n",
    "\n",
    "def size_to_str(size):\n",
    "    return '(' + (', ').join(['%d' % v for v in size]) + ')'\n",
    "\n",
    "\n",
    "def add_nodes(var):\n",
    "    global count\n",
    "    print(f'count: {count}')\n",
    "    count += 1\n",
    "    if var in seen:\n",
    "        print(f'var: {var} has been seen')\n",
    "    else:\n",
    "        vId = id(var)\n",
    "        graph[vId] = {'name': str(type(var).__name__)}\n",
    "        print(f\"output_node: {graph[vId]['name']}\")\n",
    "        \n",
    "        if torch.is_tensor(var):\n",
    "            print(f'var is tensor!! node: {str(id(var))}, size: {size_to_str(var.size())}')\n",
    "\n",
    "        elif hasattr(var, 'variable'):\n",
    "            u = var.variable\n",
    "            name = param_map[id(u)] if params is not None else ''\n",
    "            print(f'var has variable!! node_name: {name}, size: {size_to_str(u.size())}')\n",
    "#             print(type(u))\n",
    "#             graph[vId]['name'] = name \n",
    "            graph[vId]['weights'] = u.data\n",
    "        elif var in output_nodes:\n",
    "            name = str(type(var).__name__)\n",
    "            graph[vId]['output'] = True\n",
    "            \n",
    "        seen.add(var)\n",
    "        \n",
    "        if hasattr(var, 'next_functions'):\n",
    "            graph[vId]['children'] = []\n",
    "            for u in var.next_functions:\n",
    "                if u[0] is not None:\n",
    "                    add_nodes(u[0])\n",
    "                    graph[vId]['children'].append(id(u[0]))\n",
    "                    \n",
    "        if hasattr(var, 'saved_tensors'):\n",
    "            for t in var.saved_tensors:\n",
    "                add_nodes(t)\n",
    "        \n",
    "        "
   ]
  },
  {
   "cell_type": "code",
   "execution_count": 28,
   "id": "commercial-registrar",
   "metadata": {
    "ExecuteTime": {
     "end_time": "2021-02-07T15:41:24.872918Z",
     "start_time": "2021-02-07T15:41:24.862926Z"
    }
   },
   "outputs": [
    {
     "data": {
      "text/plain": [
       "{140564893046272: 'fc1.weight',\n",
       " 140564893047552: 'fc1.bias',\n",
       " 140564893046208: 'fc2.weight',\n",
       " 140564893046912: 'fc2.bias',\n",
       " 140564893046400: 'fc3.weight',\n",
       " 140564893046528: 'fc3.bias'}"
      ]
     },
     "execution_count": 28,
     "metadata": {},
     "output_type": "execute_result"
    }
   ],
   "source": [
    "param_map"
   ]
  },
  {
   "cell_type": "code",
   "execution_count": 8,
   "id": "outstanding-stable",
   "metadata": {
    "ExecuteTime": {
     "end_time": "2021-02-07T18:23:17.058290Z",
     "start_time": "2021-02-07T18:23:17.048813Z"
    }
   },
   "outputs": [
    {
     "name": "stdout",
     "output_type": "stream",
     "text": [
      "count: 0\n",
      "output_node: ReluBackward0\n",
      "count: 1\n",
      "output_node: AddmmBackward\n",
      "count: 2\n",
      "output_node: AccumulateGrad\n",
      "var has variable!! node_name: fc3.bias, size: (3)\n",
      "count: 3\n",
      "output_node: ReluBackward0\n",
      "count: 4\n",
      "output_node: AddmmBackward\n",
      "count: 5\n",
      "output_node: AccumulateGrad\n",
      "var has variable!! node_name: fc2.bias, size: (3)\n",
      "count: 6\n",
      "output_node: ReluBackward0\n",
      "count: 7\n",
      "output_node: AddmmBackward\n",
      "count: 8\n",
      "output_node: AccumulateGrad\n",
      "var has variable!! node_name: fc1.bias, size: (3)\n",
      "count: 9\n",
      "output_node: TBackward\n",
      "count: 10\n",
      "output_node: AccumulateGrad\n",
      "var has variable!! node_name: fc1.weight, size: (3, 3)\n",
      "count: 11\n",
      "output_node: TBackward\n",
      "count: 12\n",
      "output_node: AccumulateGrad\n",
      "var has variable!! node_name: fc2.weight, size: (3, 3)\n",
      "count: 13\n",
      "output_node: TBackward\n",
      "count: 14\n",
      "output_node: AccumulateGrad\n",
      "var has variable!! node_name: fc3.weight, size: (3, 3)\n"
     ]
    }
   ],
   "source": [
    "if isinstance(var, tuple):\n",
    "    for v in var:\n",
    "        add_nodes(v.grad_fn)\n",
    "else:\n",
    "    add_nodes(var.grad_fn)"
   ]
  },
  {
   "cell_type": "code",
   "execution_count": 9,
   "id": "finished-slovak",
   "metadata": {
    "ExecuteTime": {
     "end_time": "2021-02-07T18:23:18.483414Z",
     "start_time": "2021-02-07T18:23:18.460033Z"
    }
   },
   "outputs": [
    {
     "data": {
      "text/plain": [
       "{140401549878032: {'name': 'ReluBackward0',\n",
       "  'output': True,\n",
       "  'children': [140401549912864]},\n",
       " 140401549912864: {'name': 'AddmmBackward',\n",
       "  'children': [140401549913344, 140401549913200, 140401549912768]},\n",
       " 140401549913344: {'name': 'AccumulateGrad',\n",
       "  'weights': tensor([-0.1590,  0.5126,  0.1095]),\n",
       "  'children': []},\n",
       " 140401549913200: {'name': 'ReluBackward0', 'children': [140401520754256]},\n",
       " 140401520754256: {'name': 'AddmmBackward',\n",
       "  'children': [140401520753248, 140401520754112, 140401520752720]},\n",
       " 140401520753248: {'name': 'AccumulateGrad',\n",
       "  'weights': tensor([-0.0781,  0.4064, -0.4263]),\n",
       "  'children': []},\n",
       " 140401520754112: {'name': 'ReluBackward0', 'children': [140401547503792]},\n",
       " 140401547503792: {'name': 'AddmmBackward',\n",
       "  'children': [140401547502784, 140401547502880]},\n",
       " 140401547502784: {'name': 'AccumulateGrad',\n",
       "  'weights': tensor([-0.1214, -0.3841,  0.0750]),\n",
       "  'children': []},\n",
       " 140401547502880: {'name': 'TBackward', 'children': [140401547503456]},\n",
       " 140401547503456: {'name': 'AccumulateGrad',\n",
       "  'weights': tensor([[-0.2737, -0.3578,  0.4078],\n",
       "          [-0.4612, -0.2409, -0.0507],\n",
       "          [-0.3574,  0.4084, -0.3921]]),\n",
       "  'children': []},\n",
       " 140401520752720: {'name': 'TBackward', 'children': [140401547504416]},\n",
       " 140401547504416: {'name': 'AccumulateGrad',\n",
       "  'weights': tensor([[ 0.3911,  0.4508, -0.0921],\n",
       "          [-0.4587, -0.3355,  0.2708],\n",
       "          [-0.1478,  0.5284,  0.4856]]),\n",
       "  'children': []},\n",
       " 140401549912768: {'name': 'TBackward', 'children': [140401547505232]},\n",
       " 140401547505232: {'name': 'AccumulateGrad',\n",
       "  'weights': tensor([[ 0.2082, -0.4433, -0.4188],\n",
       "          [-0.5631, -0.1629,  0.1500],\n",
       "          [-0.1979,  0.1432,  0.3072]]),\n",
       "  'children': []}}"
      ]
     },
     "execution_count": 9,
     "metadata": {},
     "output_type": "execute_result"
    }
   ],
   "source": [
    "graph"
   ]
  },
  {
   "cell_type": "code",
   "execution_count": 12,
   "id": "controlled-causing",
   "metadata": {
    "ExecuteTime": {
     "end_time": "2021-02-07T15:48:59.984446Z",
     "start_time": "2021-02-07T15:48:59.977144Z"
    }
   },
   "outputs": [],
   "source": [
    "net2 = Net2()\n",
    "x = Variable(torch.rand(1, 1, 4, 4))\n",
    "y = net2(x)"
   ]
  },
  {
   "cell_type": "code",
   "execution_count": 13,
   "id": "binding-green",
   "metadata": {
    "ExecuteTime": {
     "end_time": "2021-02-07T15:49:01.049022Z",
     "start_time": "2021-02-07T15:49:00.454469Z"
    }
   },
   "outputs": [
    {
     "data": {
      "image/svg+xml": [
       "<?xml version=\"1.0\" encoding=\"UTF-8\" standalone=\"no\"?>\n",
       "<!DOCTYPE svg PUBLIC \"-//W3C//DTD SVG 1.1//EN\"\n",
       " \"http://www.w3.org/Graphics/SVG/1.1/DTD/svg11.dtd\">\n",
       "<!-- Generated by graphviz version 2.44.1 (20200629.0846)\n",
       " -->\n",
       "<!-- Pages: 1 -->\n",
       "<svg width=\"189pt\" height=\"156pt\"\n",
       " viewBox=\"0.00 0.00 189.00 156.00\" xmlns=\"http://www.w3.org/2000/svg\" xmlns:xlink=\"http://www.w3.org/1999/xlink\">\n",
       "<g id=\"graph0\" class=\"graph\" transform=\"scale(1 1) rotate(0) translate(4 152)\">\n",
       "<polygon fill=\"white\" stroke=\"transparent\" points=\"-4,4 -4,-152 185,-152 185,4 -4,4\"/>\n",
       "<!-- 140502891371440 -->\n",
       "<g id=\"node1\" class=\"node\">\n",
       "<title>140502891371440</title>\n",
       "<polygon fill=\"#caff70\" stroke=\"black\" points=\"181,-21 0,-21 0,0 181,0 181,-21\"/>\n",
       "<text text-anchor=\"middle\" x=\"90.5\" y=\"-7.4\" font-family=\"Times,serif\" font-size=\"12.00\">MaxPool2DWithIndicesBackward</text>\n",
       "</g>\n",
       "<!-- 140502891370912 -->\n",
       "<g id=\"node2\" class=\"node\">\n",
       "<title>140502891370912</title>\n",
       "<polygon fill=\"lightgrey\" stroke=\"black\" points=\"156.5,-78 24.5,-78 24.5,-57 156.5,-57 156.5,-78\"/>\n",
       "<text text-anchor=\"middle\" x=\"90.5\" y=\"-64.4\" font-family=\"Times,serif\" font-size=\"12.00\">ThnnConv2DBackward</text>\n",
       "</g>\n",
       "<!-- 140502891370912&#45;&gt;140502891371440 -->\n",
       "<g id=\"edge1\" class=\"edge\">\n",
       "<title>140502891370912&#45;&gt;140502891371440</title>\n",
       "<path fill=\"none\" stroke=\"black\" d=\"M90.5,-56.92C90.5,-49.91 90.5,-40.14 90.5,-31.47\"/>\n",
       "<polygon fill=\"black\" stroke=\"black\" points=\"94,-31.34 90.5,-21.34 87,-31.34 94,-31.34\"/>\n",
       "</g>\n",
       "<!-- 140502891370096 -->\n",
       "<g id=\"node3\" class=\"node\">\n",
       "<title>140502891370096</title>\n",
       "<polygon fill=\"lightblue\" stroke=\"black\" points=\"85,-148 4,-148 4,-114 85,-114 85,-148\"/>\n",
       "<text text-anchor=\"middle\" x=\"44.5\" y=\"-134.4\" font-family=\"Times,serif\" font-size=\"12.00\">conv1.weight</text>\n",
       "<text text-anchor=\"middle\" x=\"44.5\" y=\"-121.4\" font-family=\"Times,serif\" font-size=\"12.00\"> (2, 1, 2, 2)</text>\n",
       "</g>\n",
       "<!-- 140502891370096&#45;&gt;140502891370912 -->\n",
       "<g id=\"edge2\" class=\"edge\">\n",
       "<title>140502891370096&#45;&gt;140502891370912</title>\n",
       "<path fill=\"none\" stroke=\"black\" d=\"M56.59,-113.84C62.97,-105.3 70.83,-94.8 77.36,-86.06\"/>\n",
       "<polygon fill=\"black\" stroke=\"black\" points=\"80.18,-88.15 83.36,-78.04 74.57,-83.95 80.18,-88.15\"/>\n",
       "</g>\n",
       "<!-- 140502891372352 -->\n",
       "<g id=\"node4\" class=\"node\">\n",
       "<title>140502891372352</title>\n",
       "<polygon fill=\"lightblue\" stroke=\"black\" points=\"171.5,-148 103.5,-148 103.5,-114 171.5,-114 171.5,-148\"/>\n",
       "<text text-anchor=\"middle\" x=\"137.5\" y=\"-134.4\" font-family=\"Times,serif\" font-size=\"12.00\">conv1.bias</text>\n",
       "<text text-anchor=\"middle\" x=\"137.5\" y=\"-121.4\" font-family=\"Times,serif\" font-size=\"12.00\"> (2)</text>\n",
       "</g>\n",
       "<!-- 140502891372352&#45;&gt;140502891370912 -->\n",
       "<g id=\"edge3\" class=\"edge\">\n",
       "<title>140502891372352&#45;&gt;140502891370912</title>\n",
       "<path fill=\"none\" stroke=\"black\" d=\"M125.15,-113.84C118.62,-105.3 110.6,-94.8 103.92,-86.06\"/>\n",
       "<polygon fill=\"black\" stroke=\"black\" points=\"106.65,-83.86 97.79,-78.04 101.08,-88.11 106.65,-83.86\"/>\n",
       "</g>\n",
       "</g>\n",
       "</svg>\n"
      ],
      "text/plain": [
       "<graphviz.dot.Digraph at 0x7fc960ee15e0>"
      ]
     },
     "execution_count": 13,
     "metadata": {},
     "output_type": "execute_result"
    }
   ],
   "source": [
    "make_dot(y, params=dict(net2.named_parameters()))"
   ]
  },
  {
   "cell_type": "code",
   "execution_count": 14,
   "id": "catholic-scene",
   "metadata": {
    "ExecuteTime": {
     "end_time": "2021-02-07T15:49:02.271506Z",
     "start_time": "2021-02-07T15:49:02.256843Z"
    }
   },
   "outputs": [
    {
     "data": {
      "text/plain": [
       "{140502891387008: 'conv1.weight', 140502891387520: 'conv1.bias'}"
      ]
     },
     "execution_count": 14,
     "metadata": {},
     "output_type": "execute_result"
    }
   ],
   "source": [
    "net2 = Net2()\n",
    "x = Variable(torch.rand(1, 1, 4, 4))\n",
    "y = net2(x)\n",
    "params = dict(net2.named_parameters())\n",
    "param_map = {id(v): k for k, v in params.items()}\n",
    "param_map"
   ]
  },
  {
   "cell_type": "code",
   "execution_count": 15,
   "id": "marked-blackberry",
   "metadata": {
    "ExecuteTime": {
     "end_time": "2021-02-07T15:49:38.854599Z",
     "start_time": "2021-02-07T15:49:38.846557Z"
    }
   },
   "outputs": [
    {
     "name": "stdout",
     "output_type": "stream",
     "text": [
      "count: 15\n",
      "output_node: MaxPool2DWithIndicesBackward\n",
      "count: 16\n",
      "output_node: ThnnConv2DBackward\n",
      "count: 17\n",
      "output_node: AccumulateGrad\n",
      "var has variable!! node_name: conv1.weight, size: (2, 1, 2, 2)\n",
      "count: 18\n",
      "output_node: AccumulateGrad\n",
      "var has variable!! node_name: conv1.bias, size: (2)\n"
     ]
    }
   ],
   "source": [
    "graph = {}\n",
    "if isinstance(y, tuple):\n",
    "    for v in y:\n",
    "        add_nodes(v.grad_fn)\n",
    "else:\n",
    "    add_nodes(y.grad_fn)"
   ]
  },
  {
   "cell_type": "code",
   "execution_count": 16,
   "id": "every-installation",
   "metadata": {
    "ExecuteTime": {
     "end_time": "2021-02-07T15:49:43.827723Z",
     "start_time": "2021-02-07T15:49:43.816369Z"
    }
   },
   "outputs": [
    {
     "data": {
      "text/plain": [
       "{140502891368704: {'name': 'MaxPool2DWithIndicesBackward',\n",
       "  'children': [140502863579984]},\n",
       " 140502863579984: {'name': 'ThnnConv2DBackward',\n",
       "  'children': [140502891347296, 140502891345952]},\n",
       " 140502891347296: {'name': 'AccumulateGrad',\n",
       "  'weights': tensor([[[[ 0.2478,  0.3611],\n",
       "            [-0.4316, -0.0692]]],\n",
       "  \n",
       "  \n",
       "          [[[-0.2057,  0.0128],\n",
       "            [-0.3734, -0.0413]]]]),\n",
       "  'children': []},\n",
       " 140502891345952: {'name': 'AccumulateGrad',\n",
       "  'weights': tensor([ 0.0015, -0.3795]),\n",
       "  'children': []}}"
      ]
     },
     "execution_count": 16,
     "metadata": {},
     "output_type": "execute_result"
    }
   ],
   "source": [
    "graph"
   ]
  },
  {
   "cell_type": "code",
   "execution_count": null,
   "id": "overhead-template",
   "metadata": {},
   "outputs": [],
   "source": []
  }
 ],
 "metadata": {
  "kernelspec": {
   "display_name": "Python 3",
   "language": "python",
   "name": "python3"
  },
  "language_info": {
   "codemirror_mode": {
    "name": "ipython",
    "version": 3
   },
   "file_extension": ".py",
   "mimetype": "text/x-python",
   "name": "python",
   "nbconvert_exporter": "python",
   "pygments_lexer": "ipython3",
   "version": "3.8.5"
  },
  "toc": {
   "base_numbering": 1,
   "nav_menu": {},
   "number_sections": true,
   "sideBar": true,
   "skip_h1_title": false,
   "title_cell": "Table of Contents",
   "title_sidebar": "Contents",
   "toc_cell": false,
   "toc_position": {},
   "toc_section_display": true,
   "toc_window_display": false
  }
 },
 "nbformat": 4,
 "nbformat_minor": 5
}
